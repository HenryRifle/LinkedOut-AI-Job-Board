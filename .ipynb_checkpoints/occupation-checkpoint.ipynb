{
 "cells": [
  {
   "cell_type": "code",
   "execution_count": 1,
   "id": "99937e62",
   "metadata": {},
   "outputs": [],
   "source": [
    "import pandas as pd\n",
    "import numpy as np\n",
    "\n",
    "import openpyxl\n",
    "import os"
   ]
  },
  {
   "cell_type": "code",
   "execution_count": 2,
   "id": "91754edc",
   "metadata": {},
   "outputs": [
    {
     "ename": "ImportError",
     "evalue": "cannot import name 'ImportedStyleSheet' from 'bokeh.models' (/Users/krishnasai-narayanan/anaconda3/lib/python3.11/site-packages/bokeh/models/__init__.py)",
     "output_type": "error",
     "traceback": [
      "\u001b[0;31m---------------------------------------------------------------------------\u001b[0m",
      "\u001b[0;31mImportError\u001b[0m                               Traceback (most recent call last)",
      "Cell \u001b[0;32mIn[2], line 2\u001b[0m\n\u001b[1;32m      1\u001b[0m \u001b[38;5;28;01mimport\u001b[39;00m \u001b[38;5;21;01mpandas\u001b[39;00m \u001b[38;5;28;01mas\u001b[39;00m \u001b[38;5;21;01mpd\u001b[39;00m\n\u001b[0;32m----> 2\u001b[0m \u001b[38;5;28;01mimport\u001b[39;00m \u001b[38;5;21;01mholoviews\u001b[39;00m \u001b[38;5;28;01mas\u001b[39;00m \u001b[38;5;21;01mhv\u001b[39;00m\n\u001b[1;32m      3\u001b[0m \u001b[38;5;28;01mfrom\u001b[39;00m \u001b[38;5;21;01mholoviews\u001b[39;00m \u001b[38;5;28;01mimport\u001b[39;00m opts\n\u001b[1;32m      4\u001b[0m \u001b[38;5;28;01mfrom\u001b[39;00m \u001b[38;5;21;01mbokeh\u001b[39;00m\u001b[38;5;21;01m.\u001b[39;00m\u001b[38;5;21;01mmodels\u001b[39;00m \u001b[38;5;28;01mimport\u001b[39;00m HoverTool\n",
      "File \u001b[0;32m~/anaconda3/lib/python3.11/site-packages/holoviews/__init__.py:115\u001b[0m\n\u001b[1;32m    111\u001b[0m warnings\u001b[38;5;241m.\u001b[39mfilterwarnings(\u001b[38;5;124m\"\u001b[39m\u001b[38;5;124mignore\u001b[39m\u001b[38;5;124m\"\u001b[39m,\n\u001b[1;32m    112\u001b[0m                         message\u001b[38;5;241m=\u001b[39m\u001b[38;5;124m\"\u001b[39m\u001b[38;5;124melementwise comparison failed; returning scalar instead\u001b[39m\u001b[38;5;124m\"\u001b[39m)\n\u001b[1;32m    114\u001b[0m \u001b[38;5;28;01mif\u001b[39;00m \u001b[38;5;124m\"\u001b[39m\u001b[38;5;124mIPython\u001b[39m\u001b[38;5;124m\"\u001b[39m \u001b[38;5;129;01min\u001b[39;00m sys\u001b[38;5;241m.\u001b[39mmodules:\n\u001b[0;32m--> 115\u001b[0m     \u001b[38;5;28;01mfrom\u001b[39;00m \u001b[38;5;21;01m.\u001b[39;00m\u001b[38;5;21;01mipython\u001b[39;00m \u001b[38;5;28;01mimport\u001b[39;00m notebook_extension\n\u001b[1;32m    116\u001b[0m     extension \u001b[38;5;241m=\u001b[39m notebook_extension \u001b[38;5;66;03m# noqa (name remapping)\u001b[39;00m\n\u001b[1;32m    117\u001b[0m \u001b[38;5;28;01melse\u001b[39;00m:\n",
      "File \u001b[0;32m~/anaconda3/lib/python3.11/site-packages/holoviews/ipython/__init__.py:16\u001b[0m\n\u001b[1;32m     14\u001b[0m \u001b[38;5;28;01mfrom\u001b[39;00m \u001b[38;5;21;01m.\u001b[39;00m\u001b[38;5;21;01m.\u001b[39;00m\u001b[38;5;21;01melement\u001b[39;00m\u001b[38;5;21;01m.\u001b[39;00m\u001b[38;5;21;01mcomparison\u001b[39;00m \u001b[38;5;28;01mimport\u001b[39;00m ComparisonTestCase\n\u001b[1;32m     15\u001b[0m \u001b[38;5;28;01mfrom\u001b[39;00m \u001b[38;5;21;01m.\u001b[39;00m\u001b[38;5;21;01m.\u001b[39;00m\u001b[38;5;21;01mutil\u001b[39;00m \u001b[38;5;28;01mimport\u001b[39;00m extension\n\u001b[0;32m---> 16\u001b[0m \u001b[38;5;28;01mfrom\u001b[39;00m \u001b[38;5;21;01m.\u001b[39;00m\u001b[38;5;21;01m.\u001b[39;00m\u001b[38;5;21;01mplotting\u001b[39;00m\u001b[38;5;21;01m.\u001b[39;00m\u001b[38;5;21;01mrenderer\u001b[39;00m \u001b[38;5;28;01mimport\u001b[39;00m Renderer\n\u001b[1;32m     17\u001b[0m \u001b[38;5;28;01mfrom\u001b[39;00m \u001b[38;5;21;01m.\u001b[39;00m\u001b[38;5;21;01mmagics\u001b[39;00m \u001b[38;5;28;01mimport\u001b[39;00m load_magics\n\u001b[1;32m     18\u001b[0m \u001b[38;5;28;01mfrom\u001b[39;00m \u001b[38;5;21;01m.\u001b[39;00m\u001b[38;5;21;01mdisplay_hooks\u001b[39;00m \u001b[38;5;28;01mimport\u001b[39;00m display\n",
      "File \u001b[0;32m~/anaconda3/lib/python3.11/site-packages/holoviews/plotting/__init__.py:11\u001b[0m\n\u001b[1;32m      9\u001b[0m \u001b[38;5;28;01mfrom\u001b[39;00m \u001b[38;5;21;01m.\u001b[39;00m\u001b[38;5;21;01m.\u001b[39;00m\u001b[38;5;21;01melement\u001b[39;00m \u001b[38;5;28;01mimport\u001b[39;00m Area, Image, QuadMesh, Polygons, Raster\n\u001b[1;32m     10\u001b[0m \u001b[38;5;28;01mfrom\u001b[39;00m \u001b[38;5;21;01m.\u001b[39;00m\u001b[38;5;21;01m.\u001b[39;00m\u001b[38;5;21;01melement\u001b[39;00m\u001b[38;5;21;01m.\u001b[39;00m\u001b[38;5;21;01msankey\u001b[39;00m \u001b[38;5;28;01mimport\u001b[39;00m _layout_sankey, Sankey\n\u001b[0;32m---> 11\u001b[0m \u001b[38;5;28;01mfrom\u001b[39;00m \u001b[38;5;21;01m.\u001b[39;00m\u001b[38;5;21;01mplot\u001b[39;00m \u001b[38;5;28;01mimport\u001b[39;00m Plot\n\u001b[1;32m     12\u001b[0m \u001b[38;5;28;01mfrom\u001b[39;00m \u001b[38;5;21;01m.\u001b[39;00m\u001b[38;5;21;01mrenderer\u001b[39;00m \u001b[38;5;28;01mimport\u001b[39;00m Renderer, HTML_TAGS \u001b[38;5;66;03m# noqa (API import)\u001b[39;00m\n\u001b[1;32m     13\u001b[0m \u001b[38;5;28;01mfrom\u001b[39;00m \u001b[38;5;21;01m.\u001b[39;00m\u001b[38;5;21;01mutil\u001b[39;00m \u001b[38;5;28;01mimport\u001b[39;00m apply_nodata, list_cmaps \u001b[38;5;66;03m# noqa (API import)\u001b[39;00m\n",
      "File \u001b[0;32m~/anaconda3/lib/python3.11/site-packages/holoviews/plotting/plot.py:17\u001b[0m\n\u001b[1;32m     14\u001b[0m \u001b[38;5;28;01mimport\u001b[39;00m \u001b[38;5;21;01mnumpy\u001b[39;00m \u001b[38;5;28;01mas\u001b[39;00m \u001b[38;5;21;01mnp\u001b[39;00m\n\u001b[1;32m     15\u001b[0m \u001b[38;5;28;01mimport\u001b[39;00m \u001b[38;5;21;01mparam\u001b[39;00m\n\u001b[0;32m---> 17\u001b[0m \u001b[38;5;28;01mfrom\u001b[39;00m \u001b[38;5;21;01mpanel\u001b[39;00m\u001b[38;5;21;01m.\u001b[39;00m\u001b[38;5;21;01mconfig\u001b[39;00m \u001b[38;5;28;01mimport\u001b[39;00m config\n\u001b[1;32m     18\u001b[0m \u001b[38;5;28;01mfrom\u001b[39;00m \u001b[38;5;21;01mpanel\u001b[39;00m\u001b[38;5;21;01m.\u001b[39;00m\u001b[38;5;21;01mio\u001b[39;00m\u001b[38;5;21;01m.\u001b[39;00m\u001b[38;5;21;01mdocument\u001b[39;00m \u001b[38;5;28;01mimport\u001b[39;00m unlocked\n\u001b[1;32m     19\u001b[0m \u001b[38;5;28;01mfrom\u001b[39;00m \u001b[38;5;21;01mpanel\u001b[39;00m\u001b[38;5;21;01m.\u001b[39;00m\u001b[38;5;21;01mio\u001b[39;00m\u001b[38;5;21;01m.\u001b[39;00m\u001b[38;5;21;01mnotebook\u001b[39;00m \u001b[38;5;28;01mimport\u001b[39;00m push\n",
      "File \u001b[0;32m~/anaconda3/lib/python3.11/site-packages/panel/__init__.py:48\u001b[0m\n\u001b[1;32m      1\u001b[0m \u001b[38;5;124;03m\"\"\"\u001b[39;00m\n\u001b[1;32m      2\u001b[0m \u001b[38;5;124;03mPanel is a high level app and dashboarding framework\u001b[39;00m\n\u001b[1;32m      3\u001b[0m \u001b[38;5;124;03m====================================================\u001b[39;00m\n\u001b[0;32m   (...)\u001b[0m\n\u001b[1;32m     46\u001b[0m \u001b[38;5;124;03mhttps://panel.holoviz.org/getting_started/index.html\u001b[39;00m\n\u001b[1;32m     47\u001b[0m \u001b[38;5;124;03m\"\"\"\u001b[39;00m\n\u001b[0;32m---> 48\u001b[0m \u001b[38;5;28;01mfrom\u001b[39;00m \u001b[38;5;21;01m.\u001b[39;00m \u001b[38;5;28;01mimport\u001b[39;00m layout  \u001b[38;5;66;03m# noqa\u001b[39;00m\n\u001b[1;32m     49\u001b[0m \u001b[38;5;28;01mfrom\u001b[39;00m \u001b[38;5;21;01m.\u001b[39;00m \u001b[38;5;28;01mimport\u001b[39;00m links  \u001b[38;5;66;03m# noqa\u001b[39;00m\n\u001b[1;32m     50\u001b[0m \u001b[38;5;28;01mfrom\u001b[39;00m \u001b[38;5;21;01m.\u001b[39;00m \u001b[38;5;28;01mimport\u001b[39;00m pane  \u001b[38;5;66;03m# noqa\u001b[39;00m\n",
      "File \u001b[0;32m~/anaconda3/lib/python3.11/site-packages/panel/layout/__init__.py:31\u001b[0m\n\u001b[1;32m      1\u001b[0m \u001b[38;5;124;03m\"\"\"\u001b[39;00m\n\u001b[1;32m      2\u001b[0m \u001b[38;5;124;03mLayout\u001b[39;00m\n\u001b[1;32m      3\u001b[0m \u001b[38;5;124;03m======\u001b[39;00m\n\u001b[0;32m   (...)\u001b[0m\n\u001b[1;32m     29\u001b[0m \u001b[38;5;124;03mhttps://panel.holoviz.org/getting_started/index.html\u001b[39;00m\n\u001b[1;32m     30\u001b[0m \u001b[38;5;124;03m\"\"\"\u001b[39;00m\n\u001b[0;32m---> 31\u001b[0m \u001b[38;5;28;01mfrom\u001b[39;00m \u001b[38;5;21;01m.\u001b[39;00m\u001b[38;5;21;01maccordion\u001b[39;00m \u001b[38;5;28;01mimport\u001b[39;00m Accordion  \u001b[38;5;66;03m# noqa\u001b[39;00m\n\u001b[1;32m     32\u001b[0m \u001b[38;5;28;01mfrom\u001b[39;00m \u001b[38;5;21;01m.\u001b[39;00m\u001b[38;5;21;01mbase\u001b[39;00m \u001b[38;5;28;01mimport\u001b[39;00m (  \u001b[38;5;66;03m# noqa\u001b[39;00m\n\u001b[1;32m     33\u001b[0m     Column, ListLike, ListPanel, Panel, Row, WidgetBox,\n\u001b[1;32m     34\u001b[0m )\n\u001b[1;32m     35\u001b[0m \u001b[38;5;28;01mfrom\u001b[39;00m \u001b[38;5;21;01m.\u001b[39;00m\u001b[38;5;21;01mcard\u001b[39;00m \u001b[38;5;28;01mimport\u001b[39;00m Card  \u001b[38;5;66;03m# noqa\u001b[39;00m\n",
      "File \u001b[0;32m~/anaconda3/lib/python3.11/site-packages/panel/layout/accordion.py:11\u001b[0m\n\u001b[1;32m      7\u001b[0m \u001b[38;5;28;01mimport\u001b[39;00m \u001b[38;5;21;01mparam\u001b[39;00m\n\u001b[1;32m      9\u001b[0m \u001b[38;5;28;01mfrom\u001b[39;00m \u001b[38;5;21;01mbokeh\u001b[39;00m\u001b[38;5;21;01m.\u001b[39;00m\u001b[38;5;21;01mmodels\u001b[39;00m \u001b[38;5;28;01mimport\u001b[39;00m Column \u001b[38;5;28;01mas\u001b[39;00m BkColumn, CustomJS\n\u001b[0;32m---> 11\u001b[0m \u001b[38;5;28;01mfrom\u001b[39;00m \u001b[38;5;21;01m.\u001b[39;00m\u001b[38;5;21;01m.\u001b[39;00m\u001b[38;5;21;01mreactive\u001b[39;00m \u001b[38;5;28;01mimport\u001b[39;00m Reactive\n\u001b[1;32m     12\u001b[0m \u001b[38;5;28;01mfrom\u001b[39;00m \u001b[38;5;21;01m.\u001b[39;00m\u001b[38;5;21;01mbase\u001b[39;00m \u001b[38;5;28;01mimport\u001b[39;00m NamedListPanel\n\u001b[1;32m     13\u001b[0m \u001b[38;5;28;01mfrom\u001b[39;00m \u001b[38;5;21;01m.\u001b[39;00m\u001b[38;5;21;01mcard\u001b[39;00m \u001b[38;5;28;01mimport\u001b[39;00m Card\n",
      "File \u001b[0;32m~/anaconda3/lib/python3.11/site-packages/panel/reactive.py:31\u001b[0m\n\u001b[1;32m     29\u001b[0m \u001b[38;5;28;01mfrom\u001b[39;00m \u001b[38;5;21;01mbokeh\u001b[39;00m\u001b[38;5;21;01m.\u001b[39;00m\u001b[38;5;21;01mcore\u001b[39;00m\u001b[38;5;21;01m.\u001b[39;00m\u001b[38;5;21;01mproperty\u001b[39;00m\u001b[38;5;21;01m.\u001b[39;00m\u001b[38;5;21;01mdescriptors\u001b[39;00m \u001b[38;5;28;01mimport\u001b[39;00m UnsetValueError\n\u001b[1;32m     30\u001b[0m \u001b[38;5;28;01mfrom\u001b[39;00m \u001b[38;5;21;01mbokeh\u001b[39;00m\u001b[38;5;21;01m.\u001b[39;00m\u001b[38;5;21;01mmodel\u001b[39;00m \u001b[38;5;28;01mimport\u001b[39;00m DataModel\n\u001b[0;32m---> 31\u001b[0m \u001b[38;5;28;01mfrom\u001b[39;00m \u001b[38;5;21;01mbokeh\u001b[39;00m\u001b[38;5;21;01m.\u001b[39;00m\u001b[38;5;21;01mmodels\u001b[39;00m \u001b[38;5;28;01mimport\u001b[39;00m ImportedStyleSheet\n\u001b[1;32m     32\u001b[0m \u001b[38;5;28;01mfrom\u001b[39;00m \u001b[38;5;21;01mpackaging\u001b[39;00m\u001b[38;5;21;01m.\u001b[39;00m\u001b[38;5;21;01mversion\u001b[39;00m \u001b[38;5;28;01mimport\u001b[39;00m Version\n\u001b[1;32m     33\u001b[0m \u001b[38;5;28;01mfrom\u001b[39;00m \u001b[38;5;21;01mparam\u001b[39;00m\u001b[38;5;21;01m.\u001b[39;00m\u001b[38;5;21;01mparameterized\u001b[39;00m \u001b[38;5;28;01mimport\u001b[39;00m ParameterizedMetaclass, Watcher\n",
      "\u001b[0;31mImportError\u001b[0m: cannot import name 'ImportedStyleSheet' from 'bokeh.models' (/Users/krishnasai-narayanan/anaconda3/lib/python3.11/site-packages/bokeh/models/__init__.py)"
     ]
    }
   ],
   "source": [
    "import pandas as pd\n",
    "import holoviews as hv\n",
    "from holoviews import opts\n",
    "from bokeh.models import HoverTool\n",
    "import streamlit as st"
   ]
  },
  {
   "cell_type": "code",
   "execution_count": null,
   "id": "4ffd143f",
   "metadata": {
    "scrolled": true
   },
   "outputs": [],
   "source": [
    "os.getcwd()"
   ]
  },
  {
   "cell_type": "code",
   "execution_count": null,
   "id": "5e87b285",
   "metadata": {},
   "outputs": [],
   "source": [
    "os.chdir('..')"
   ]
  },
  {
   "cell_type": "code",
   "execution_count": null,
   "id": "6dcb1bec",
   "metadata": {},
   "outputs": [],
   "source": [
    "path = '/Users/krishnasai-narayanan/Desktop/Home/Rutgers - Coursework/Fall 2024/Big Data Algo/big-data/group project/project_data'"
   ]
  },
  {
   "cell_type": "code",
   "execution_count": null,
   "id": "2ebb7c14",
   "metadata": {},
   "outputs": [],
   "source": [
    "filename = path + '/2019-29/occupation.xlsx'"
   ]
  },
  {
   "cell_type": "code",
   "execution_count": null,
   "id": "27f97915",
   "metadata": {},
   "outputs": [],
   "source": [
    "occu_obj = openpyxl.load_workbook(path + '/2019-29/occupation.xlsx')"
   ]
  },
  {
   "cell_type": "code",
   "execution_count": null,
   "id": "e1370709",
   "metadata": {},
   "outputs": [],
   "source": [
    "index_sheet = pd.read_excel(filename)"
   ]
  },
  {
   "cell_type": "code",
   "execution_count": null,
   "id": "ebdb5a47",
   "metadata": {
    "scrolled": true
   },
   "outputs": [],
   "source": [
    "index_sheet"
   ]
  },
  {
   "cell_type": "code",
   "execution_count": null,
   "id": "9e43cdec",
   "metadata": {},
   "outputs": [],
   "source": [
    "sheet_data = {}"
   ]
  },
  {
   "cell_type": "code",
   "execution_count": null,
   "id": "7f47dcb9",
   "metadata": {},
   "outputs": [],
   "source": [
    "def basic_data_cleaning(data1):\n",
    "\n",
    "    data1 = data1.rename(columns={data1.columns[0]: \"Job Title\"})\n",
    "    \n",
    "    try:\n",
    "        index = data1[data1['Job Title'].str.contains('Footnotes')].index[0]\n",
    "    except:\n",
    "        index = data1[data1['Job Title'].str.contains('U.S. Bureau of Labor Statistics')].index[0]\n",
    "        \n",
    "    data1 = data1.iloc[:index]\n",
    "\n",
    "    try:\n",
    "        data1 = data1.drop('2019 National Employment Matrix code', axis=1)\n",
    "    except:\n",
    "        pass\n",
    "    \n",
    "    return data1"
   ]
  },
  {
   "cell_type": "code",
   "execution_count": null,
   "id": "9321431a",
   "metadata": {},
   "outputs": [],
   "source": [
    "for i in index_sheet.index:\n",
    "    data = pd.read_excel(filename, sheet_name=i+1, skiprows=1)\n",
    "    \n",
    "    print(index_sheet.loc[i].iloc[0])\n",
    "    \n",
    "    sheet_data[index_sheet.loc[i].iloc[0]] = basic_data_cleaning(data)"
   ]
  },
  {
   "cell_type": "markdown",
   "id": "a7ec47c2",
   "metadata": {},
   "source": [
    "## Data Visualizations on Individual Sheets of Data"
   ]
  },
  {
   "cell_type": "markdown",
   "id": "23b7d878",
   "metadata": {},
   "source": [
    "### Table 1.1 Employment by major occupational group, 2019 and projected 2029"
   ]
  },
  {
   "cell_type": "code",
   "execution_count": null,
   "id": "0edd38d6",
   "metadata": {},
   "outputs": [],
   "source": [
    "# Enable Holoviews Bokeh backend\n",
    "hv.extension('bokeh')\n",
    "\n",
    "df = pd.DataFrame(sheet_data[index_sheet.loc[0].iloc[0]])"
   ]
  },
  {
   "cell_type": "code",
   "execution_count": null,
   "id": "1f8ec0bb",
   "metadata": {},
   "outputs": [],
   "source": [
    "df.columns"
   ]
  },
  {
   "cell_type": "code",
   "execution_count": null,
   "id": "40f4396b",
   "metadata": {},
   "outputs": [],
   "source": [
    "# Melt the data to a long format for easier plotting\n",
    "melted_df = df.melt(\n",
    "    id_vars='Job Title',\n",
    "    value_vars=['Employment, 2019', 'Employment, 2029'],\n",
    "    var_name='Year',\n",
    "    value_name='Employment'\n",
    ")"
   ]
  },
  {
   "cell_type": "code",
   "execution_count": null,
   "id": "24cec10b",
   "metadata": {},
   "outputs": [],
   "source": [
    "melted_df['Year'] = melted_df['Year'].str.extract(r'(\\d+)').astype(int)"
   ]
  },
  {
   "cell_type": "code",
   "execution_count": null,
   "id": "82bcf6f1",
   "metadata": {},
   "outputs": [],
   "source": [
    "selected_groups = st.sidebar.multiselect(\n",
    "    \"Select Occupational Groups\",\n",
    "    options=df['Job Title'].unique(),\n",
    "    default=df['Job Title'].unique()\n",
    ")\n",
    "\n",
    "filtered_data = melted_df[melted_df['Job Title'].isin(selected_groups)]\n",
    "\n",
    "plot = hv.Curve(\n",
    "    filtered_data, \n",
    "    kdims=['Year'], \n",
    "    vdims=['Employment', 'Job Title']\n",
    ").groupby('Job Title').overlay()\n",
    "\n",
    "hover = HoverTool(\n",
    "    tooltips=[\n",
    "        (\"Group\", \"@{Job Title}\"),\n",
    "        (\"Year\", \"@{Year}\"),\n",
    "        (\"Employment\", \"@{Employment}\")\n",
    "    ]\n",
    ")\n",
    "plot = plot.opts(\n",
    "    opts.Overlay(\n",
    "        show_legend=True, \n",
    "        legend_position='top_left'\n",
    "    ),\n",
    "    opts.Curve(\n",
    "        tools=[hover], \n",
    "        line_width=2, \n",
    "        color=hv.Cycle('Category20'), \n",
    "        responsive=True, \n",
    "        height=400, \n",
    "        width=700\n",
    "    )\n",
    ")\n",
    "\n",
    "st.title(\"Employment Trends (2019-2029)\")\n",
    "st.write(\"Interactive line plot of employment trends for selected occupational groups.\")"
   ]
  },
  {
   "cell_type": "code",
   "execution_count": null,
   "id": "732557b1",
   "metadata": {},
   "outputs": [],
   "source": [
    "st.bokeh_chart(hv.render(plot, backend='bokeh'))"
   ]
  },
  {
   "cell_type": "code",
   "execution_count": null,
   "id": "971fb2c2",
   "metadata": {},
   "outputs": [],
   "source": []
  }
 ],
 "metadata": {
  "kernelspec": {
   "display_name": "Python 3 (ipykernel)",
   "language": "python",
   "name": "python3"
  },
  "language_info": {
   "codemirror_mode": {
    "name": "ipython",
    "version": 3
   },
   "file_extension": ".py",
   "mimetype": "text/x-python",
   "name": "python",
   "nbconvert_exporter": "python",
   "pygments_lexer": "ipython3",
   "version": "3.11.5"
  }
 },
 "nbformat": 4,
 "nbformat_minor": 5
}

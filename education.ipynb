{
 "cells": [
  {
   "cell_type": "code",
   "execution_count": 1,
   "metadata": {},
   "outputs": [],
   "source": [
    "import numpy as np\n",
    "import pandas as pd\n",
    "import matplotlib as mt\n",
    "import holoviews as hv"
   ]
  },
  {
   "cell_type": "code",
   "execution_count": null,
   "metadata": {},
   "outputs": [],
   "source": [
    "data_2023=pd.read_excel(\"D:\\\\Rutgersstuff\\\\BigDataAlgorithms\\\\BigDataProjectData\\\\2023-33\\\\education.xlsx\", sheet_name=[1,2,3,4], skiprows= lambda x: x == 0)"
   ]
  },
  {
   "cell_type": "code",
   "execution_count": 39,
   "metadata": {},
   "outputs": [
    {
     "data": {
      "text/html": [
       "<div>\n",
       "<style scoped>\n",
       "    .dataframe tbody tr th:only-of-type {\n",
       "        vertical-align: middle;\n",
       "    }\n",
       "\n",
       "    .dataframe tbody tr th {\n",
       "        vertical-align: top;\n",
       "    }\n",
       "\n",
       "    .dataframe thead th {\n",
       "        text-align: right;\n",
       "    }\n",
       "</style>\n",
       "<table border=\"1\" class=\"dataframe\">\n",
       "  <thead>\n",
       "    <tr style=\"text-align: right;\">\n",
       "      <th></th>\n",
       "      <th>Educational attainment</th>\n",
       "      <th>Median usual weekly earnings ($)</th>\n",
       "      <th>Unemployment rate (%)</th>\n",
       "    </tr>\n",
       "  </thead>\n",
       "  <tbody>\n",
       "    <tr>\n",
       "      <th>0</th>\n",
       "      <td>Doctoral degree</td>\n",
       "      <td>2109.0</td>\n",
       "      <td>1.6</td>\n",
       "    </tr>\n",
       "    <tr>\n",
       "      <th>1</th>\n",
       "      <td>Professional degree</td>\n",
       "      <td>2206.0</td>\n",
       "      <td>1.2</td>\n",
       "    </tr>\n",
       "    <tr>\n",
       "      <th>2</th>\n",
       "      <td>Master's degree</td>\n",
       "      <td>1737.0</td>\n",
       "      <td>2.0</td>\n",
       "    </tr>\n",
       "    <tr>\n",
       "      <th>3</th>\n",
       "      <td>Bachelor's degree</td>\n",
       "      <td>1493.0</td>\n",
       "      <td>2.2</td>\n",
       "    </tr>\n",
       "    <tr>\n",
       "      <th>4</th>\n",
       "      <td>Associate's degree</td>\n",
       "      <td>1058.0</td>\n",
       "      <td>2.7</td>\n",
       "    </tr>\n",
       "  </tbody>\n",
       "</table>\n",
       "</div>"
      ],
      "text/plain": [
       "  Educational attainment  Median usual weekly earnings ($)  \\\n",
       "0        Doctoral degree                            2109.0   \n",
       "1    Professional degree                            2206.0   \n",
       "2        Master's degree                            1737.0   \n",
       "3      Bachelor's degree                            1493.0   \n",
       "4     Associate's degree                            1058.0   \n",
       "\n",
       "   Unemployment rate (%)  \n",
       "0                    1.6  \n",
       "1                    1.2  \n",
       "2                    2.0  \n",
       "3                    2.2  \n",
       "4                    2.7  "
      ]
     },
     "execution_count": 39,
     "metadata": {},
     "output_type": "execute_result"
    }
   ],
   "source": [
    "data_2023[1].head() #slay"
   ]
  },
  {
   "cell_type": "code",
   "execution_count": 40,
   "metadata": {},
   "outputs": [],
   "source": [
    "data_2019=pd.read_excel(\"D:\\\\Rutgersstuff\\\\BigDataAlgorithms\\\\BigDataProjectData\\\\2019-29\\\\education.xlsx\", sheet_name=[1,2,3], skiprows = lambda x: x == 0)"
   ]
  },
  {
   "cell_type": "code",
   "execution_count": 41,
   "metadata": {},
   "outputs": [
    {
     "data": {
      "text/html": [
       "<div>\n",
       "<style scoped>\n",
       "    .dataframe tbody tr th:only-of-type {\n",
       "        vertical-align: middle;\n",
       "    }\n",
       "\n",
       "    .dataframe tbody tr th {\n",
       "        vertical-align: top;\n",
       "    }\n",
       "\n",
       "    .dataframe thead th {\n",
       "        text-align: right;\n",
       "    }\n",
       "</style>\n",
       "<table border=\"1\" class=\"dataframe\">\n",
       "  <thead>\n",
       "    <tr style=\"text-align: right;\">\n",
       "      <th></th>\n",
       "      <th>Typical entry-level education</th>\n",
       "      <th>Employment, 2019</th>\n",
       "      <th>Employment distribution, percent, 2019</th>\n",
       "      <th>Employment change, percent, 2019-29</th>\n",
       "      <th>Median annual wage, 2020(1)</th>\n",
       "    </tr>\n",
       "  </thead>\n",
       "  <tbody>\n",
       "    <tr>\n",
       "      <th>0</th>\n",
       "      <td>Total, all occupations</td>\n",
       "      <td>162795.6</td>\n",
       "      <td>100.0</td>\n",
       "      <td>3.7</td>\n",
       "      <td>41950.0</td>\n",
       "    </tr>\n",
       "    <tr>\n",
       "      <th>1</th>\n",
       "      <td>Doctoral or professional degree</td>\n",
       "      <td>4412.8</td>\n",
       "      <td>2.7</td>\n",
       "      <td>5.9</td>\n",
       "      <td>110200.0</td>\n",
       "    </tr>\n",
       "    <tr>\n",
       "      <th>2</th>\n",
       "      <td>Master's degree</td>\n",
       "      <td>2633.9</td>\n",
       "      <td>1.6</td>\n",
       "      <td>15.0</td>\n",
       "      <td>78210.0</td>\n",
       "    </tr>\n",
       "    <tr>\n",
       "      <th>3</th>\n",
       "      <td>Bachelor's degree</td>\n",
       "      <td>36864.2</td>\n",
       "      <td>22.6</td>\n",
       "      <td>6.4</td>\n",
       "      <td>77920.0</td>\n",
       "    </tr>\n",
       "    <tr>\n",
       "      <th>4</th>\n",
       "      <td>Associate's degree</td>\n",
       "      <td>3601.6</td>\n",
       "      <td>2.2</td>\n",
       "      <td>6.2</td>\n",
       "      <td>56590.0</td>\n",
       "    </tr>\n",
       "  </tbody>\n",
       "</table>\n",
       "</div>"
      ],
      "text/plain": [
       "     Typical entry-level education  Employment, 2019  \\\n",
       "0           Total, all occupations          162795.6   \n",
       "1  Doctoral or professional degree            4412.8   \n",
       "2                  Master's degree            2633.9   \n",
       "3                Bachelor's degree           36864.2   \n",
       "4               Associate's degree            3601.6   \n",
       "\n",
       "   Employment distribution, percent, 2019  \\\n",
       "0                                   100.0   \n",
       "1                                     2.7   \n",
       "2                                     1.6   \n",
       "3                                    22.6   \n",
       "4                                     2.2   \n",
       "\n",
       "   Employment change, percent, 2019-29  Median annual wage, 2020(1)  \n",
       "0                                  3.7                      41950.0  \n",
       "1                                  5.9                     110200.0  \n",
       "2                                 15.0                      78210.0  \n",
       "3                                  6.4                      77920.0  \n",
       "4                                  6.2                      56590.0  "
      ]
     },
     "execution_count": 41,
     "metadata": {},
     "output_type": "execute_result"
    }
   ],
   "source": [
    "data_2019[1].head()"
   ]
  }
 ],
 "metadata": {
  "kernelspec": {
   "display_name": "bigdataclass",
   "language": "python",
   "name": "python3"
  },
  "language_info": {
   "codemirror_mode": {
    "name": "ipython",
    "version": 3
   },
   "file_extension": ".py",
   "mimetype": "text/x-python",
   "name": "python",
   "nbconvert_exporter": "python",
   "pygments_lexer": "ipython3",
   "version": "3.12.4"
  }
 },
 "nbformat": 4,
 "nbformat_minor": 2
}
